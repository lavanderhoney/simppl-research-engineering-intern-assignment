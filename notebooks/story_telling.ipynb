{
 "cells": [
  {
   "cell_type": "code",
   "execution_count": 4,
   "metadata": {},
   "outputs": [
    {
     "data": {
      "text/plain": [
       "True"
      ]
     },
     "execution_count": 4,
     "metadata": {},
     "output_type": "execute_result"
    }
   ],
   "source": [
    "from langchain_core.messages import SystemMessage, HumanMessage\n",
    "from langchain.prompts import ChatPromptTemplate, PromptTemplate, SystemMessagePromptTemplate, HumanMessagePromptTemplate\n",
    "from langchain_google_genai import ChatGoogleGenerativeAI\n",
    "from langchain_core.output_parsers import StrOutputParser, JsonOutputParser\n",
    "from dotenv import load_dotenv\n",
    "from typing import List, Dict, Any, Optional\n",
    "from pydantic import BaseModel, Field\n",
    "\n",
    "load_dotenv()"
   ]
  },
  {
   "cell_type": "code",
   "execution_count": 5,
   "metadata": {},
   "outputs": [],
   "source": [
    "llm = ChatGoogleGenerativeAI(model=\"gemini-1.5-flash\")"
   ]
  },
  {
   "cell_type": "code",
   "execution_count": 16,
   "metadata": {},
   "outputs": [],
   "source": [
    "class Response(BaseModel):\n",
    "    narrative: str\n",
    "    graphs: List[int]\n",
    "\n",
    "graphs_descriptions = {\n",
    "    1:\"\"\"This chart shows the number of posts over time across various political subreddits, using a 15-day rolling average to smooth trends. From August 2024 to early 2025, post activity remained low and stable, but around January-February 2025, some subreddits saw a sharp increase, likely due to a major political event.\n",
    "Key trends:\n",
    "Politics and socialism subreddits had the biggest spikes.\n",
    "Democrats and Republican subreddits also grew but more gradually.\n",
    "PoliticalDiscussion stayed more stable.\n",
    "When to use this chart:\n",
    "To analyze online political engagement trends before major events.\n",
    "To compare subreddit activity over time in response to political changes.\n",
    "To track how different political communities react to events.\"\"\",\n",
    "2:\"\"\" This chart shows how different topic themes are distributed across each political subreddit, using stacked bars to represent the percentage of posts. Each bar (labeled by subreddit on the x-axis) is divided into color-coded segments for topics like personal perspectives on socialism, public opinion on Trump, online racial group dynamics, and more.\n",
    "\n",
    "Key points:\n",
    "\n",
    "Each subreddit has a unique topic mix, reflecting community interests (e.g., one may focus more on socialism, another on budget policy).\n",
    "Bars add up to 100% per subreddit, making it easy to compare dominant conversation themes at a glance.\n",
    "When to use:\n",
    "\n",
    "To compare topic focus across political communities.\n",
    "To understand how different subreddits prioritize or discuss certain political themes.\n",
    "To spot community-specific trends in political discourse.\"\"\",\n",
    "3: \"\"\" This visualization is a network diagram showing how different political subreddits are connected based on their relationships (e.g., shared discussions or user overlap). Each node is a subreddit, and the lines between them represent the strength or frequency of their connections.\n",
    "\n",
    "Key points:\n",
    "\n",
    "Nodes closer together or with thicker lines tend to have stronger connections or more shared interest.\n",
    "Each node is color-coded, making it easy to distinguish subreddits at a glance.\n",
    "The structure highlights clusters of closely related communities.\n",
    "When to use:\n",
    "\n",
    "To see how different political subreddits relate to each other.\n",
    "To identify clusters or groups that share common topics.\n",
    "To explore how online communities overlap or diverge in their political discussions.\"\"\",\n",
    "4: \"\"\"This chart is a **histogram** showing how posts are distributed across **sentiment scores** ranging from **-1** (negative) to **+1** (positive). The y-axis shows the **number of posts** at each sentiment level. Notably, there’s a **tall bar** at **0**, indicating that **most posts** are neutral or close to neutral in sentiment, with fewer posts at the more **positive** or **negative** ends of the scale.\n",
    "\n",
    "**Key points:**\n",
    "- **Peak around 0:** Most posts have a **neutral** sentiment.\n",
    "- **Smaller bars** at both ends: Relatively fewer posts show **strongly positive** or **strongly negative** sentiment.\n",
    "\n",
    "**When to use:**\n",
    "- To quickly see how **positive, negative, or neutral** a set of posts is.\n",
    "- To understand the **overall tone** of conversations in political subreddits.\n",
    "- As a **starting point** for deeper analysis into why certain posts lean more positive or negative. \"\"\",\n",
    "5: \"\"\"This heatmap displays how **posts are distributed** across **sentiment score ranges** (x-axis) for each **subreddit** (y-axis). Darker or more intense colors indicate **higher numbers of posts** in that sentiment range.  \n",
    "\n",
    "Key points:  \n",
    "- Each row represents a subreddit, each column a **range of sentiment scores** (from negative to positive).  \n",
    "- The **color scale** shows how many posts fall into each sentiment range.  \n",
    "- You can quickly see **which sentiment ranges** are most common for each subreddit.  \n",
    "\n",
    "When to use:  \n",
    "- To **compare** the **sentiment distribution** across multiple subreddits.  \n",
    "- To identify which subreddits have **higher negative or positive** sentiment.  \n",
    "- To **spot trends** in overall tone across different communities. \"\"\",\n",
    "6: \"\"\" This line chart shows how the **average sentiment score** changes from **August 2024** to **March 2025**. The x-axis is the date, and the y-axis represents the **mean sentiment** (ranging roughly from negative to positive). Early on, sentiment appears to **fluctuate** with both positive and negative swings. Over time, it tends to **stabilize** closer to **neutral** (around zero), suggesting that overall conversation mood levels out toward the end of the period.\n",
    "\n",
    "**Key points:**\n",
    "- **Time-based changes** in sentiment, with notable ups and downs early on.\n",
    "- Gradual **stabilization** near a neutral score.\n",
    "\n",
    "**When to use:**\n",
    "- To understand **how sentiment shifts** over a specific time frame.\n",
    "- To **identify periods** of heightened negativity or positivity.\n",
    "- To **correlate sentiment changes** with major events or trends.\"\"\",\n",
    "7: \"\"\" This **stacked bar chart** shows how often different **news domains** (x-axis) are shared across various **political subreddits** (color-coded segments). The y-axis represents the **number of shares** for each domain. For example, “self.Conservative” has the highest share count overall, while **reuters.com** also shows a large total. Each bar is divided into sections for subreddits like Conservative, Liberal, Republican, etc., revealing **which communities** share **which sources** most often.\n",
    "\n",
    "**When to use:**\n",
    "- To see how **domain popularity** varies by subreddit.  \n",
    "- To compare **media source usage** across different political communities.  \n",
    "- To spot **patterns or preferences** in news-sharing behavior.\"\"\",\n",
    "8: \"\"\" \n",
    "This **pie chart** shows the **overall share** of different **news domains** across all subreddits. Each slice represents a **domain**, with its size indicating the **percentage** of total shares. For instance, **youtube.com** has the largest share, followed by **self.Conservative**, then various news sites like **nytimes.com**, **thehill.com**, and **apnews.com**.\n",
    "\n",
    "**Key points:**\n",
    "- It gives a **quick overview** of which domains are most popular.\n",
    "- It highlights the **dominance** of certain domains compared to others.\n",
    "- It shows **relative proportions** rather than absolute numbers.\n",
    "\n",
    "**When to use:**\n",
    "- To **spot top domains** or sources in an overall dataset.\n",
    "- To **illustrate the balance** between user-generated (self) content and external news sources.\n",
    "- To see if **certain outlets** are **heavily favored** across political communities.\n",
    "\"\"\"\n",
    "\n",
    "}\n",
    "system_message = SystemMessagePromptTemplate.from_template(\n",
    "    \"\"\"\n",
    "    You are an analytical assistant skilled in interpreting data visualizations and generating insightful narratives based on user queries. \n",
    "    You have access to a set of visualizations described below. \n",
    "    Your task is to generate a coherent narrative that answers the user’s query, integrating relevant data insights and citing appropriate figures for reference.\n",
    "    Each figure is identified by a unique figure number and contains valuable information. When citing figures, use the format: (Figure X), where X is the corresponding figure number. \n",
    "    Also, for each figure used, return a list containing the figure numbers, like [1,2,3].\n",
    "    Cite only the most relevant figures that directly support your response.\n",
    "    Here are the available visualizations:\n",
    "    {graphs_descriptions}\n",
    "    Ensure that your response is:\n",
    "    - Clear and concise, directly answering the query.\n",
    "    - Well-supported, using figures where necessary.\n",
    "    - Coherent, presenting a logical flow in the story.\n",
    "    - Objective, relying on data from the figures without speculation.\n",
    "    Do not format the output in markdown, do not use triple backticks (` ``` `) or JSON code blocks.\n",
    "    Ensure that the response is a valid JSON object that follows the expected schema.\n",
    "    {format_instructions}\n",
    "    \"\"\"\n",
    ")\n",
    "\n"
   ]
  },
  {
   "cell_type": "code",
   "execution_count": 32,
   "metadata": {},
   "outputs": [
    {
     "name": "stdout",
     "output_type": "stream",
     "text": [
      "<class 'langchain_core.prompts.chat.ChatPromptTemplate'>\n",
      "content='{\\n  \"narrative\": \"From August 2024 to March 2025, political subreddit activity showed a period of relative quiet followed by a surge in engagement around January and February 2025.  Initially, post activity remained low and stable across various subreddits (Figure 1). However, a significant increase in posting occurred in several subreddits during this later period, suggesting a reaction to a major political event.  Subreddits focused on politics and socialism experienced the most dramatic spikes in activity (Figure 1), while those dedicated to Democrats and Republicans showed more gradual increases.  The PoliticalDiscussion subreddit remained comparatively stable throughout the period. The differing responses across subreddits indicate varying degrees of engagement and interest in the event. Figure 2 reveals the unique thematic focus of each subreddit.  For example, some communities might concentrate on discussions of socialism, while others prioritize budget policy. This inherent thematic diversity likely influenced how each community reacted to the major event, with some showing more pronounced increases in activity than others.  The network diagram (Figure 3) would further illuminate how these communities are interconnected and whether the event triggered increased interaction between previously less-connected groups.  Finally, analyzing sentiment (Figures 4, 5, and 6) across this period would reveal whether the event prompted a shift in the overall emotional tone of the discussions within each community, and whether this shift was uniform or varied.\",\\n  \"graphs\": [1, 2, 3, 4, 5, 6]\\n}' additional_kwargs={} response_metadata={'prompt_feedback': {'block_reason': 0, 'safety_ratings': []}, 'finish_reason': 'STOP', 'safety_ratings': []} id='run-9bb3a8aa-56bf-4cd5-b153-eed1412188c9-0' usage_metadata={'input_tokens': 1898, 'output_tokens': 312, 'total_tokens': 2210, 'input_token_details': {'cache_read': 0}}\n"
     ]
    }
   ],
   "source": [
    "query = \"What are the key trends in political subreddit activity from August 2024 to March 2025, and how do different political communities react to major events during this period?\"\n",
    "human_message = HumanMessagePromptTemplate.from_template(\"Here is the user-query:\\n\\n{query}\\n\\nPlease provide a narrative that answers the user's query, integrating relevant data insights and citing appropriate figures for reference.\")\n",
    "parser = JsonOutputParser(pydantic_object=Response)\n",
    "# Combine into a structured chat prompt\n",
    "chat_prompt = ChatPromptTemplate(\n",
    "    messages=[system_message, human_message],\n",
    "    partial_variables={\n",
    "        \"query\": query,\n",
    "        \"graphs_descriptions\": \"\\n\".join([f\"{k}: {v}\" for k, v in graphs_descriptions.items()]),\n",
    "        \"format_instructions\": parser.get_format_instructions()}\n",
    ")\n",
    "\n",
    "print(type(chat_prompt))\n",
    "llm_out = llm.invoke(chat_prompt.format_messages())\n",
    "print(llm_out)\n",
    "parsed_output = parser.invoke(llm_out)"
   ]
  },
  {
   "cell_type": "code",
   "execution_count": 30,
   "metadata": {},
   "outputs": [
    {
     "name": "stdout",
     "output_type": "stream",
     "text": [
      "From August 2024 to March 2025, political subreddit activity showed a period of relative quiet followed by a surge in engagement around January and February 2025.  Initially, post activity remained low and stable across various subreddits (Figure 1). However, this changed dramatically with a sharp increase in posting in some subreddits around January-February 2025.  Subreddits focused on politics and socialism experienced the most significant spikes during this period, while those dedicated to Democrats and Republicans showed more gradual growth.  The PoliticalDiscussion subreddit remained comparatively stable throughout the entire period (Figure 1).  The increase in activity likely reflects a response to a significant political event during that timeframe.  Analyzing the distribution of topics across subreddits (Figure 2) would offer further insight into the specific issues driving this increased engagement.  Furthermore, examining the network connections between subreddits (Figure 3) could reveal how these communities interacted and influenced each other during this period of heightened activity.\n"
     ]
    }
   ],
   "source": [
    "import ast\n",
    "parser = JsonOutputParser(pydantic_object=Response)\n",
    "\n",
    "parsed = parser.invoke(llm_out)\n",
    "print(parsed[\"narrative\"])\n"
   ]
  }
 ],
 "metadata": {
  "kernelspec": {
   "display_name": "venv-simppl",
   "language": "python",
   "name": "python3"
  },
  "language_info": {
   "codemirror_mode": {
    "name": "ipython",
    "version": 3
   },
   "file_extension": ".py",
   "mimetype": "text/x-python",
   "name": "python",
   "nbconvert_exporter": "python",
   "pygments_lexer": "ipython3",
   "version": "3.12.0"
  }
 },
 "nbformat": 4,
 "nbformat_minor": 2
}
