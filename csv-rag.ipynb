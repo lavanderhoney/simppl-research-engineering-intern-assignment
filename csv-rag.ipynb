{
 "cells": [
  {
   "cell_type": "code",
   "execution_count": 2,
   "metadata": {},
   "outputs": [
    {
     "data": {
      "text/plain": [
       "True"
      ]
     },
     "execution_count": 2,
     "metadata": {},
     "output_type": "execute_result"
    }
   ],
   "source": [
    "from langchain_experimental.agents import create_csv_agent\n",
    "from langchain_google_genai import ChatGoogleGenerativeAI\n",
    "from dotenv import load_dotenv\n",
    "load_dotenv()"
   ]
  },
  {
   "cell_type": "code",
   "execution_count": 6,
   "metadata": {},
   "outputs": [],
   "source": [
    "llm = ChatGoogleGenerativeAI(model=\"gemini-1.5-flash\")\n",
    "agent = create_csv_agent(\n",
    "    llm,\n",
    "    path=\"reddit_cleaned_v2.csv\",\n",
    "    verbose=True,\n",
    "    allow_dangerous_code=True)"
   ]
  },
  {
   "cell_type": "code",
   "execution_count": 7,
   "metadata": {},
   "outputs": [
    {
     "name": "stderr",
     "output_type": "stream",
     "text": [
      "C:\\Users\\milap\\AppData\\Local\\Temp\\ipykernel_25120\\3997745990.py:1: LangChainDeprecationWarning: The method `Chain.run` was deprecated in langchain 0.1.0 and will be removed in 1.0. Use :meth:`~invoke` instead.\n",
      "  agent.run(\"How many rows are there?\")\n"
     ]
    },
    {
     "name": "stdout",
     "output_type": "stream",
     "text": [
      "\n",
      "\n",
      "\u001b[1m> Entering new AgentExecutor chain...\u001b[0m\n",
      "\u001b[32;1m\u001b[1;3mThought: I can use the python_repl_ast tool to get the number of rows in the pandas DataFrame `df`.  The `.shape` attribute will give me a tuple (rows, columns). I'll extract the first element of this tuple.\n",
      "\n",
      "Action: python_repl_ast\n",
      "Action Input: \n",
      "```python\n",
      "print(df.shape[0])\n",
      "```\u001b[0m\u001b[36;1m\u001b[1;3m8799\n",
      "\u001b[0m\u001b[32;1m\u001b[1;3mI now know the final answer.\n",
      "Final Answer: 8799\u001b[0m\n",
      "\n",
      "\u001b[1m> Finished chain.\u001b[0m\n"
     ]
    },
    {
     "data": {
      "text/plain": [
       "'8799'"
      ]
     },
     "execution_count": 7,
     "metadata": {},
     "output_type": "execute_result"
    }
   ],
   "source": [
    "agent.run(\"How many rows are there?\")"
   ]
  },
  {
   "cell_type": "code",
   "execution_count": 8,
   "metadata": {},
   "outputs": [
    {
     "name": "stdout",
     "output_type": "stream",
     "text": [
      "\n",
      "\n",
      "\u001b[1m> Entering new AgentExecutor chain...\u001b[0m\n",
      "\u001b[32;1m\u001b[1;3mThought: I need to find the column that represents the account and then count the occurrences of each unique account to find the most popular one.  The `author` column seems to be the relevant one.\n",
      "\n",
      "Action: python_repl_ast\n",
      "Action Input: \n",
      "```python\n",
      "df['author'].value_counts()\n",
      "```\u001b[0m\u001b[36;1m\u001b[1;3mauthor\n",
      "M_i_c_K              246\n",
      "John3262005          194\n",
      "Walk1000Miles        145\n",
      "Prudent_Bug_1350     141\n",
      "Ask4MD               137\n",
      "                    ... \n",
      "Claque-2               1\n",
      "daffylilly             1\n",
      "AwakeningStar1968      1\n",
      "siandresi              1\n",
      "ShutUpRedditor44       1\n",
      "Name: count, Length: 3599, dtype: int64\u001b[0m\u001b[32;1m\u001b[1;3mThought:The output shows the counts of each author.  The most frequent author is M_i_c_K with 246 posts.\n",
      "\n",
      "Final Answer: M_i_c_K\u001b[0m\n",
      "\n",
      "\u001b[1m> Finished chain.\u001b[0m\n"
     ]
    },
    {
     "data": {
      "text/plain": [
       "{'input': 'Which is the most popular account?', 'output': 'M_i_c_K'}"
      ]
     },
     "execution_count": 8,
     "metadata": {},
     "output_type": "execute_result"
    }
   ],
   "source": [
    "agent.invoke(\"Which is the most popular account?\")"
   ]
  }
 ],
 "metadata": {
  "kernelspec": {
   "display_name": "venv-simppl",
   "language": "python",
   "name": "python3"
  },
  "language_info": {
   "codemirror_mode": {
    "name": "ipython",
    "version": 3
   },
   "file_extension": ".py",
   "mimetype": "text/x-python",
   "name": "python",
   "nbconvert_exporter": "python",
   "pygments_lexer": "ipython3",
   "version": "3.12.0"
  }
 },
 "nbformat": 4,
 "nbformat_minor": 2
}
